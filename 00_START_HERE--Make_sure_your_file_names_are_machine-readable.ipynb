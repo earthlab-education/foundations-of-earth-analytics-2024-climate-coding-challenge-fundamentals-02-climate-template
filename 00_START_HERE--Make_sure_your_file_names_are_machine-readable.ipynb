{
  "cells": [
    {
      "cell_type": "markdown",
      "id": "886d9743-4b6f-4d08-8c20-125bb2746918",
      "metadata": {},
      "source": [
        "# Climate coding challenge, Part 0\n",
        "\n",
        "## Human-readable and Machine-readable\n",
        "\n",
        "When writing open, reproducible scientific workflows, it is always\n",
        "important to make sure that:\n",
        "\n",
        "1.  all collaborators can understand what’s going on\n",
        "2.  any commands you give to a computer are clear and unambiguous\n",
        "\n",
        "We call these two (sometimes competing) goals **human-readability** and\n",
        "**machine-readability**.\n",
        "\n",
        "> **Further reading**\n",
        ">\n",
        "> Read [our textbook chapter about organizing open reproducible science\n",
        "> projects](https://www.earthdatascience.org/courses/intro-to-earth-data-science/open-reproducible-science/get-started-open-reproducible-science/best-practices-for-organizing-open-reproducible-science/)."
      ]
    },
    {
      "cell_type": "markdown",
      "id": "2ca9ebde-997a-449d-88e0-5455d190408f",
      "metadata": {},
      "source": [
        "> **Human-readable and Machine-readable**\n",
        ">\n",
        "> 1. Create a new Markdown cell below this one using the\n",
        ">     <kbd>ESC</kbd> + <kbd>b</kbd> keyboard shortcut.\n",
        "> 2. In the new cell, answer the following question in a Markdown\n",
        ">     **quote**: Does this Jupyter Notebook file have a machine-readable\n",
        ">     name? Explain your answer."
      ]
    },
    {
      "cell_type": "markdown",
      "id": "21afce35",
      "metadata": {},
      "source": [
        "> Does this Jupyter Notebook file have a machine-readable name?\n",
        "\n",
        "The name of the file is *\"00 START HERE: Make sure your file names are machine-readable.ipynb\"*, which is not machine readable (at least for common machine languages). \n",
        "\n",
        "To make this machine-readable one should replace the spaces with _ or -. It is not clear if the colon is machine-readable. In languages I am most familiar with the colon is not allowed as it is a reserved symbol for entering a new directory. So, I will replace it here.\n",
        "\n",
        "*\"00_START_HERE--Make_sure_your_file_names_are_machine-readable.ipynb\"*"
      ]
    },
    {
      "cell_type": "markdown",
      "id": "09d076a4-e009-495c-a284-bc8760e7ac78",
      "metadata": {},
      "source": [
        "> **Your task: Machine-readable file names**\n",
        ">\n",
        "> Rename any notebooks in this folder with an **expressive and\n",
        "> machine-readable file name**"
      ]
    }
  ],
  "metadata": {
    "kernelspec": {
      "display_name": "Python 3",
      "language": "python",
      "name": "python3"
    }
  },
  "nbformat": 4,
  "nbformat_minor": 5
}
